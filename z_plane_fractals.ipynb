{
 "cells": [
  {
   "cell_type": "code",
   "execution_count": 1,
   "metadata": {},
   "outputs": [],
   "source": [
    "import os, sys, gc, math\n",
    "import numpy as np\n",
    "import matplotlib\n",
    "import matplotlib.pyplot as plt\n",
    "from glob import glob\n",
    "from progressbar import progressbar\n",
    "\n",
    "matplotlib.rcParams['figure.dpi'] = 600"
   ]
  },
  {
   "cell_type": "code",
   "execution_count": 2,
   "metadata": {},
   "outputs": [],
   "source": [
    "ANIM_OUT_DIR = \"animation_output\"\n",
    "FRAME_PREFIX = \"frame\"\n",
    "MAX_ARCHIVED_ANIMS = 10000"
   ]
  },
  {
   "cell_type": "code",
   "execution_count": 3,
   "metadata": {},
   "outputs": [],
   "source": [
    "def mandel_iter(c, z=0):\n",
    "    return z**2 + c"
   ]
  },
  {
   "cell_type": "code",
   "execution_count": 4,
   "metadata": {},
   "outputs": [],
   "source": [
    "def burning_ship_iter(c, z):\n",
    "    return (abs(z.real) + 1j*abs(z.imag))**2 + c"
   ]
  },
  {
   "cell_type": "code",
   "execution_count": 5,
   "metadata": {},
   "outputs": [],
   "source": [
    "def iter_diverge(iter_func, c, iterations, bound_radius):\n",
    "    z = 0\n",
    "    \n",
    "    for i in range(iterations):\n",
    "        z = iter_func(c, z)\n",
    "        if abs(z) > bound_radius:\n",
    "            return (True, i, z)\n",
    "        \n",
    "    return (False, iterations, z)"
   ]
  },
  {
   "cell_type": "code",
   "execution_count": 6,
   "metadata": {},
   "outputs": [],
   "source": [
    "def iter_array(iter_func, left_x, right_x, bottom_y, top_y, num_pts, iterations, bound_radius):\n",
    "    results = np.zeros((num_pts, num_pts))\n",
    "    \n",
    "    for x_i, x in enumerate(progressbar(np.linspace(left_x, right_x, num_pts))):\n",
    "        for y_i, y in enumerate(np.linspace(top_y, bottom_y, num_pts)):\n",
    "            results[x_i, y_i] = iter_diverge(iter_func, complex(x, y), iterations, bound_radius)[1]\n",
    "            \n",
    "    return results"
   ]
  },
  {
   "cell_type": "code",
   "execution_count": 7,
   "metadata": {},
   "outputs": [],
   "source": [
    "def make_iter_frac(iter_func=mandel_iter, center=complex(0, 0), size=2.0, resolution=100, iterations=50, bound_radius=3.0):\n",
    "    half = size / 2.0\n",
    "    left = center.real-half\n",
    "    right = center.real+half\n",
    "    bottom = center.imag-half\n",
    "    top = center.imag+half\n",
    "    \n",
    "    num_pts = resolution\n",
    "    arr = iter_array(iter_func, left, right, bottom, top, num_pts, iterations, bound_radius)\n",
    "    return arr, (left, right, bottom, top)"
   ]
  },
  {
   "cell_type": "code",
   "execution_count": 24,
   "metadata": {},
   "outputs": [],
   "source": [
    "def _checkflip(arr, extent, flip_x, flip_y):\n",
    "    l, r, b, t = extent\n",
    "    if flip_x:\n",
    "        arr = np.flip(arr, 0)\n",
    "        extent = (r, l, b, t)\n",
    "        l, r = r, l\n",
    "    if flip_y:\n",
    "        arr = np.flip(arr, 1)\n",
    "        extent = (l, r, t, b)\n",
    "        b, t = t, b\n",
    "    return arr, extent"
   ]
  },
  {
   "cell_type": "code",
   "execution_count": 25,
   "metadata": {},
   "outputs": [],
   "source": [
    "def mandel_view(center=complex(0, 0), \n",
    "                size=2.0, \n",
    "                resolution=100, \n",
    "                iterations=50, \n",
    "                bound_radius=2.0, \n",
    "                color_map='viridis',\n",
    "                      flip_x = False,\n",
    "                      flip_y = False):\n",
    "    return custom_view(mandel_iter, center, size, resolution, iterations, bound_radius, color_map, flip_x, flip_y)"
   ]
  },
  {
   "cell_type": "code",
   "execution_count": 26,
   "metadata": {},
   "outputs": [],
   "source": [
    "def burning_ship_view(center=complex(0, 0), \n",
    "                      size=2.0, \n",
    "                      resolution=100, \n",
    "                      iterations=1000, \n",
    "                      bound_radius=4.0, \n",
    "                      color_map='viridis',\n",
    "                      flip_x = False,\n",
    "                      flip_y = False):\n",
    "    return custom_view(burning_ship_iter, center, size, resolution, iterations, bound_radius, color_map, flip_x, flip_y)"
   ]
  },
  {
   "cell_type": "code",
   "execution_count": 27,
   "metadata": {},
   "outputs": [],
   "source": [
    "def custom_view(iter_func, \n",
    "                center=complex(0, 0),\n",
    "                size=2.0, \n",
    "                resolution=100, \n",
    "                iterations=50, \n",
    "                bound_radius=2.0, \n",
    "                color_map='viridis',\n",
    "                flip_x = False,\n",
    "                flip_y = False):\n",
    "    arr, extent = make_iter_frac(iter_func, center, size, resolution, iterations, bound_radius)\n",
    "    arr, extent = _checkflip(arr, extent, flip_x, flip_y)\n",
    "    plt.imshow(arr.T, extent=extent, cmap=color_map)\n",
    "    return arr"
   ]
  },
  {
   "cell_type": "code",
   "execution_count": 28,
   "metadata": {},
   "outputs": [],
   "source": [
    "def animate_iter_frac(iter_func=mandel_iter, \n",
    "                      center_start=complex(0, 0), \n",
    "                      size_exp_start=1, \n",
    "                      center_end=complex(-0.5, 0), \n",
    "                      size_exp_end=-15, \n",
    "                      num_frames=100,\n",
    "                      resolution=200, \n",
    "                      iterations=50, \n",
    "                      bound_radius=2.0, \n",
    "                      color_map='viridis',\n",
    "                      start_frame=0,\n",
    "                      movement_type='geom',\n",
    "                      zoom_type='geom',\n",
    "                      flip_x = False,\n",
    "                      flip_y = False):\n",
    "    \n",
    "    if zoom_type == 'geom': # geometrically slowing zoom\n",
    "        sizes = np.logspace(size_exp_start, size_exp_end, num_frames)\n",
    "    else: # linear zoom \n",
    "        sizes = np.linspace(10**size_exp_start, 10**size_exp_end, num_frames)\n",
    "        \n",
    "    if movement_type == 'geom': # geometrically slowing pan\n",
    "        seq = np.logspace(0, size_exp_end, num_frames)\n",
    "    else: # linear pan\n",
    "        seq = np.linspace(0, 1, num_frames)\n",
    "    line = center_end - center_start\n",
    "    centers = center_end - line*seq\n",
    "\n",
    "    for count, (cen, siz) in enumerate(zip(centers, sizes)):\n",
    "        if count >= start_frame-1:\n",
    "            print(\"processing frame {} of {}\".format(count+1, num_frames))\n",
    "            sys.stdout.flush()\n",
    "            arr, extent = make_iter_frac(iter_func, cen, siz, resolution, iterations, bound_radius)\n",
    "            f = plt.figure()\n",
    "            plt.imshow(arr, extent=extent, cmap=color_map)\n",
    "            plt.savefig(os.path.join(ANIM_OUT_DIR, \"{}_{}\".format(FRAME_PREFIX, count)))\n",
    "            plt.close(f)\n",
    "            \n",
    "            plt.close(1); plt.close('all'); gc.collect() # fix leak maybe??"
   ]
  },
  {
   "cell_type": "code",
   "execution_count": 29,
   "metadata": {},
   "outputs": [],
   "source": [
    "def archive_frames(): \n",
    "    dirs = [d for d in os.listdir(ANIM_OUT_DIR) if os.path.isdir(os.path.join(ANIM_OUT_DIR, d))]\n",
    "    index = 0\n",
    "    new_dir_name = None\n",
    "    while index < MAX_ARCHIVED_ANIMS: # find the first integer that isn't already taken as a frame dir\n",
    "        index += 1\n",
    "        if str(index) not in dirs:\n",
    "            new_dir_name = os.path.join(ANIM_OUT_DIR, str(index))\n",
    "            break\n",
    "    if new_dir_name is None:\n",
    "        raise Exception()\n",
    "        \n",
    "    os.mkdir(new_dir_name)\n",
    "    frame_files = glob(os.path.join(ANIM_OUT_DIR, \"{}_*.png\".format(FRAME_PREFIX)))\n",
    "    [os.rename(f, os.path.join(new_dir_name, os.path.basename(f))) for f in frame_files] #move the files"
   ]
  },
  {
   "cell_type": "code",
   "execution_count": 30,
   "metadata": {},
   "outputs": [],
   "source": [
    "def new_iterfunc(z, c):\n",
    "    return mandel_iter(z, c) * burning_ship_iter(z, c)"
   ]
  },
  {
   "cell_type": "code",
   "execution_count": null,
   "metadata": {},
   "outputs": [
    {
     "name": "stderr",
     "output_type": "stream",
     "text": [
      " 91% (546 of 600) |####################  | Elapsed Time: 0:01:48 ETA:   0:00:11"
     ]
    }
   ],
   "source": [
    "burning_ship_view(center=complex(-1.5363, -0.000125), \n",
    "                  size=0.0002, \n",
    "                  resolution=600, \n",
    "                  flip_y = True, \n",
    "                  bound_radius=30)"
   ]
  },
  {
   "cell_type": "code",
   "execution_count": null,
   "metadata": {},
   "outputs": [],
   "source": []
  },
  {
   "cell_type": "code",
   "execution_count": null,
   "metadata": {},
   "outputs": [],
   "source": []
  },
  {
   "cell_type": "code",
   "execution_count": null,
   "metadata": {},
   "outputs": [],
   "source": [
    "#archive_frames()"
   ]
  },
  {
   "cell_type": "code",
   "execution_count": null,
   "metadata": {},
   "outputs": [],
   "source": [
    "animate_iter_frac(iter_func =      burning_ship_iter, \n",
    "                  center_start =   complex(0, 0),\n",
    "                  size_exp_start = 1,\n",
    "                  center_end =     complex(-0.811343, -0.375323),\n",
    "                  size_exp_end =   -10,\n",
    "                  num_frames =     300,\n",
    "                  resolution =     800,\n",
    "                  iterations =     300,\n",
    "                  bound_radius =   50,\n",
    "                  color_map =      'gist_stern',\n",
    "                  start_frame =    198,\n",
    "                  movement_type =  'geom')"
   ]
  }
 ],
 "metadata": {
  "kernelspec": {
   "display_name": "Python 3",
   "language": "python",
   "name": "python3"
  },
  "language_info": {
   "codemirror_mode": {
    "name": "ipython",
    "version": 3
   },
   "file_extension": ".py",
   "mimetype": "text/x-python",
   "name": "python",
   "nbconvert_exporter": "python",
   "pygments_lexer": "ipython3",
   "version": "3.8.2"
  }
 },
 "nbformat": 4,
 "nbformat_minor": 4
}
